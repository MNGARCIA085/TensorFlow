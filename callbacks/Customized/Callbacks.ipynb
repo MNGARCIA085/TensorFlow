{
 "cells": [
  {
   "cell_type": "markdown",
   "id": "d098ee3f",
   "metadata": {},
   "source": [
    "# <center> <font color='#0B5345'> <b> Customized callbacks </font> </b> </center>"
   ]
  },
  {
   "cell_type": "markdown",
   "id": "4a71b3c7",
   "metadata": {},
   "source": [
    "### <b> <font color='blue'> Table of Contents </b> </font>\n",
    "\n",
    "- 0. [Introduction](#0)\n",
    "- 1. [Libraries](#1)\n",
    "- 2. [Loading data](#2)\n",
    "- 3. [Model Building](#3)\n",
    "- 4. [Training](#4)\n"
   ]
  },
  {
   "cell_type": "markdown",
   "id": "db764340",
   "metadata": {},
   "source": [
    "<a name=\"0\"></a>\n",
    "## <b> <font color='##138D75'> 0. Introduction </b> </font>\n",
    "\n",
    "\n",
    "A callback in TensorFlow is a set of functions that are executed at specific stages during the training process of a neural network model. Callbacks allow you to customize and extend the behavior of the training process, enabling you to perform additional tasks such as logging, model checkpointing, learning rate scheduling, and early stopping.\n",
    "\n",
    "You can see the methods below:\n",
    "\n",
    "\n",
    "\n",
    "<table style=\"border: 1px solid;\">\n",
    "  <tr style=\"border: 1px solid;\">\n",
    "      <th style=\"border: 1px solid;\"><center>Method</center></th>\n",
    "      <th><center>Description</center></th>\n",
    "  </tr>\n",
    "  <tr style=\"border: 1px solid;\">\n",
    "    <td style=\"border: 1px solid;\">on_epoch_begin(epoch, logs=None)</td>\n",
    "    <td style=\"text-align: left;\">Called at the beginning of each epoch during training. <br> Allows for pre-epoch tasks or updates.</td>\n",
    "  </tr>\n",
    "  <tr style=\"border: 1px solid;\">\n",
    "    <td style=\"border: 1px solid;\">on_epoch_end(epoch, logs=None)</td>\n",
    "    <td style=\"text-align: left;\">Called at the end of each epoch during training. <br>Enables logging, learning rate updates, or early stopping based on epoch results.</td>\n",
    "  </tr>\n",
    "  <tr style=\"border: 1px solid;\">\n",
    "    <td style=\"border: 1px solid;\">on_batch_begin(batch, logs=None)</td>\n",
    "    <td style=\"text-align: left;\">Called at the beginning of each batch during training. <br> Allows for pre-batch operations such as data preprocessing.</td>\n",
    "  </tr>\n",
    "  <tr style=\"border: 1px solid;\">\n",
    "    <td style=\"border: 1px solid;\">on_batch_end(batch, logs=None)</td>\n",
    "    <td style=\"text-align: left;\">Called at the end of each batch during training. <br> Enables logging batch metrics or updating training progress.</td>\n",
    "  </tr>\n",
    "  <tr style=\"border: 1px solid;\">\n",
    "    <td style=\"border: 1px solid;\">on_train_begin(logs=None)</td>\n",
    "    <td style=\"text-align: left;\">Called at the beginning of the training process. <br> Allows for initialization tasks or setup procedures before training.</td>\n",
    "  </tr>\n",
    "  <tr style=\"border: 1px solid;\">\n",
    "    <td style=\"border: 1px solid;\">on_train_end(logs=None)</td>\n",
    "    <td style=\"text-align: left;\">Called at the end of the training process. <br> Enables cleanup tasks or finalization operations after training completes.</td>\n",
    "  </tr>\n",
    "</table>\n",
    "\n",
    "\n"
   ]
  },
  {
   "cell_type": "markdown",
   "id": "0b199ad4",
   "metadata": {},
   "source": [
    "<a name=\"1\"></a>\n",
    "## <b> <font color='##138D75'> 1. Libraries </b> </font>"
   ]
  },
  {
   "cell_type": "code",
   "execution_count": 6,
   "id": "20b66a4b",
   "metadata": {},
   "outputs": [],
   "source": [
    "# que no se impriman info y warnings\n",
    "import os\n",
    "os.environ['TF_CPP_MIN_LOG_LEVEL'] = '2' \n",
    "\n",
    "# Ignore all warnings\n",
    "warnings.filterwarnings('ignore')"
   ]
  },
  {
   "cell_type": "code",
   "execution_count": 8,
   "id": "9dbe5ea3",
   "metadata": {},
   "outputs": [],
   "source": [
    "import tensorflow as tf\n",
    "from tensorflow.keras import layers, callbacks, models\n"
   ]
  },
  {
   "cell_type": "markdown",
   "id": "a358c140",
   "metadata": {},
   "source": [
    "<a name=\"2\"></a>\n",
    "## <b> <font color='##138D75'> 2. Loading data </b> </font>"
   ]
  },
  {
   "cell_type": "code",
   "execution_count": 9,
   "id": "1c71803a",
   "metadata": {},
   "outputs": [],
   "source": [
    "# Load MNIST dataset\n",
    "mnist = tf.keras.datasets.mnist\n",
    "\n",
    "# Load data into training and testing sets\n",
    "(X_train, y_train), (X_test, y_test) = mnist.load_data()\n",
    "\n",
    "# Normalize pixel values to be between 0 and 1\n",
    "X_train, X_test = X_train / 255.0, X_test / 255.0\n"
   ]
  },
  {
   "cell_type": "markdown",
   "id": "6952e268",
   "metadata": {},
   "source": [
    "<a name=\"3\"></a>\n",
    "## <b> <font color='##138D75'> 3. Model building </b> </font>"
   ]
  },
  {
   "cell_type": "code",
   "execution_count": 15,
   "id": "12e4e7af",
   "metadata": {},
   "outputs": [],
   "source": [
    "def build_model():\n",
    "\n",
    "    # Define the model\n",
    "    model = tf.keras.models.Sequential([\n",
    "        tf.keras.layers.Conv2D(32,(3,3),activation='relu',input_shape=(28,28,1)),\n",
    "        tf.keras.layers.MaxPooling2D((2,2)),\n",
    "        tf.keras.layers.Flatten(),\n",
    "        tf.keras.layers.Dense(128,activation='relu'),\n",
    "        tf.keras.layers.Dense(10,activation='softmax'),\n",
    "    ])\n",
    "\n",
    "    # Compile the model\n",
    "    model.compile(optimizer='adam',\n",
    "                  loss='sparse_categorical_crossentropy',\n",
    "                  metrics=['accuracy'])\n",
    "        \n",
    "    return model"
   ]
  },
  {
   "cell_type": "markdown",
   "id": "d409fc66",
   "metadata": {},
   "source": [
    "<a name=\"4\"></a>\n",
    "## <b> <font color='##138D75'> 4. Training </b> </font>"
   ]
  },
  {
   "cell_type": "code",
   "execution_count": 19,
   "id": "658f3b4b",
   "metadata": {},
   "outputs": [],
   "source": [
    "# let's define a customized callback, that stops the training when it reaches 97% accuracy\n",
    "class myCallback(tf.keras.callbacks.Callback):\n",
    "        # Define the correct function signature for on_epoch_end\n",
    "        def on_epoch_end(self, epoch, logs={}):\n",
    "            if logs.get('accuracy') is not None and logs.get('accuracy') > 0.97:                 \n",
    "                print(\"\\nReached 97% accuracy so cancelling training!\")\n",
    "                # Stop training once the above condition is met\n",
    "                self.model.stop_training = True"
   ]
  },
  {
   "cell_type": "code",
   "execution_count": 20,
   "id": "646353ac",
   "metadata": {},
   "outputs": [
    {
     "name": "stdout",
     "output_type": "stream",
     "text": [
      "Epoch 1/10\n",
      "1875/1875 [==============================] - 26s 13ms/step - loss: 0.1540 - accuracy: 0.9546 - val_loss: 0.0596 - val_accuracy: 0.9797\n",
      "Epoch 2/10\n",
      "1874/1875 [============================>.] - ETA: 0s - loss: 0.0522 - accuracy: 0.9843\n",
      "Reached 97% accuracy so cancelling training!\n",
      "1875/1875 [==============================] - 23s 12ms/step - loss: 0.0521 - accuracy: 0.9843 - val_loss: 0.0487 - val_accuracy: 0.9832\n"
     ]
    }
   ],
   "source": [
    "# model\n",
    "model = build_model()\n",
    "\n",
    "# callback\n",
    "callbacks = myCallback()\n",
    "\n",
    "# fit the model\n",
    "history = model.fit(X_train, y_train, epochs=10, validation_data=(X_test,y_test),callbacks=[callbacks])"
   ]
  },
  {
   "cell_type": "markdown",
   "id": "978b92fe",
   "metadata": {},
   "source": [
    "We are going to enhance our callback by passing the target accuracy as an argument instead of hardcoding it."
   ]
  },
  {
   "cell_type": "code",
   "execution_count": 21,
   "id": "fce02318",
   "metadata": {},
   "outputs": [],
   "source": [
    "class myCallback(tf.keras.callbacks.Callback):\n",
    "    def __init__(self, target_accuracy):\n",
    "        super(myCallback, self).__init__()\n",
    "        self.target_accuracy = target_accuracy\n",
    "\n",
    "    def on_epoch_end(self, epoch, logs=None):\n",
    "        if logs.get('accuracy') is not None and logs.get('accuracy') > self.target_accuracy:\n",
    "            print(f\"\\nReached {self.target_accuracy * 100}% accuracy, so cancelling training!\")\n",
    "            self.model.stop_training = True\n"
   ]
  },
  {
   "cell_type": "code",
   "execution_count": 23,
   "id": "44d7ebac",
   "metadata": {},
   "outputs": [
    {
     "name": "stdout",
     "output_type": "stream",
     "text": [
      "Epoch 1/10\n",
      "1875/1875 [==============================] - 26s 14ms/step - loss: 0.1505 - accuracy: 0.9546 - val_loss: 0.0567 - val_accuracy: 0.9812\n",
      "Epoch 2/10\n",
      "1875/1875 [==============================] - 26s 14ms/step - loss: 0.0518 - accuracy: 0.9844 - val_loss: 0.0570 - val_accuracy: 0.9817\n",
      "Epoch 3/10\n",
      "1875/1875 [==============================] - 25s 14ms/step - loss: 0.0344 - accuracy: 0.9896 - val_loss: 0.0548 - val_accuracy: 0.9829\n",
      "Epoch 4/10\n",
      "1873/1875 [============================>.] - ETA: 0s - loss: 0.0221 - accuracy: 0.9932\n",
      "Reached 99.0% accuracy, so cancelling training!\n",
      "1875/1875 [==============================] - 25s 13ms/step - loss: 0.0221 - accuracy: 0.9932 - val_loss: 0.0430 - val_accuracy: 0.9859\n"
     ]
    }
   ],
   "source": [
    "# model\n",
    "model = build_model()\n",
    "\n",
    "# callback\n",
    "callback = myCallback(target_accuracy=0.99)\n",
    "\n",
    "# fit the model\n",
    "history = model.fit(X_train, y_train, epochs=10, validation_data=(X_test,y_test),callbacks=[callback])"
   ]
  },
  {
   "cell_type": "code",
   "execution_count": null,
   "id": "ed081a1c",
   "metadata": {},
   "outputs": [],
   "source": []
  }
 ],
 "metadata": {
  "kernelspec": {
   "display_name": "Python 3 (ipykernel)",
   "language": "python",
   "name": "python3"
  },
  "language_info": {
   "codemirror_mode": {
    "name": "ipython",
    "version": 3
   },
   "file_extension": ".py",
   "mimetype": "text/x-python",
   "name": "python",
   "nbconvert_exporter": "python",
   "pygments_lexer": "ipython3",
   "version": "3.10.12"
  }
 },
 "nbformat": 4,
 "nbformat_minor": 5
}
